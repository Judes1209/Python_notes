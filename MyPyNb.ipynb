{
 "cells": [
  {
   "cell_type": "markdown",
   "metadata": {},
   "source": [
    "# PYTHON NOTEBOOK"
   ]
  },
  {
   "cell_type": "code",
   "execution_count": 1,
   "metadata": {},
   "outputs": [
    {
     "data": {
      "text/plain": [
       "['False',\n",
       " 'None',\n",
       " 'True',\n",
       " 'and',\n",
       " 'as',\n",
       " 'assert',\n",
       " 'async',\n",
       " 'await',\n",
       " 'break',\n",
       " 'class',\n",
       " 'continue',\n",
       " 'def',\n",
       " 'del',\n",
       " 'elif',\n",
       " 'else',\n",
       " 'except',\n",
       " 'finally',\n",
       " 'for',\n",
       " 'from',\n",
       " 'global',\n",
       " 'if',\n",
       " 'import',\n",
       " 'in',\n",
       " 'is',\n",
       " 'lambda',\n",
       " 'nonlocal',\n",
       " 'not',\n",
       " 'or',\n",
       " 'pass',\n",
       " 'raise',\n",
       " 'return',\n",
       " 'try',\n",
       " 'while',\n",
       " 'with',\n",
       " 'yield']"
      ]
     },
     "execution_count": 1,
     "metadata": {},
     "output_type": "execute_result"
    }
   ],
   "source": [
    "import keyword\n",
    "keyword.kwlist"
   ]
  },
  {
   "cell_type": "code",
   "execution_count": 2,
   "metadata": {},
   "outputs": [
    {
     "data": {
      "text/plain": [
       "9223372036854775807"
      ]
     },
     "execution_count": 2,
     "metadata": {},
     "output_type": "execute_result"
    }
   ],
   "source": [
    "import sys\n",
    "sys.maxsize"
   ]
  },
  {
   "cell_type": "code",
   "execution_count": 3,
   "metadata": {},
   "outputs": [
    {
     "data": {
      "text/plain": [
       "0"
      ]
     },
     "execution_count": 3,
     "metadata": {},
     "output_type": "execute_result"
    }
   ],
   "source": [
    "10&20"
   ]
  },
  {
   "cell_type": "code",
   "execution_count": 4,
   "metadata": {},
   "outputs": [
    {
     "data": {
      "text/plain": [
       "30"
      ]
     },
     "execution_count": 4,
     "metadata": {},
     "output_type": "execute_result"
    }
   ],
   "source": [
    "10|20"
   ]
  },
  {
   "cell_type": "code",
   "execution_count": 5,
   "metadata": {},
   "outputs": [
    {
     "data": {
      "text/plain": [
       "-11"
      ]
     },
     "execution_count": 5,
     "metadata": {},
     "output_type": "execute_result"
    }
   ],
   "source": [
    "~10"
   ]
  },
  {
   "cell_type": "code",
   "execution_count": 6,
   "metadata": {},
   "outputs": [
    {
     "data": {
      "text/plain": [
       "-6"
      ]
     },
     "execution_count": 6,
     "metadata": {},
     "output_type": "execute_result"
    }
   ],
   "source": [
    "~5"
   ]
  },
  {
   "cell_type": "code",
   "execution_count": 7,
   "metadata": {},
   "outputs": [
    {
     "data": {
      "text/plain": [
       "40"
      ]
     },
     "execution_count": 7,
     "metadata": {},
     "output_type": "execute_result"
    }
   ],
   "source": [
    "10<<2"
   ]
  },
  {
   "cell_type": "code",
   "execution_count": 8,
   "metadata": {},
   "outputs": [
    {
     "data": {
      "text/plain": [
       "str"
      ]
     },
     "execution_count": 8,
     "metadata": {},
     "output_type": "execute_result"
    }
   ],
   "source": [
    "name = \"sheriff judes\"\n",
    "type(name)"
   ]
  },
  {
   "cell_type": "code",
   "execution_count": 9,
   "metadata": {},
   "outputs": [
    {
     "data": {
      "text/plain": [
       "'iff'"
      ]
     },
     "execution_count": 9,
     "metadata": {},
     "output_type": "execute_result"
    }
   ],
   "source": [
    "name[4:7]"
   ]
  },
  {
   "cell_type": "markdown",
   "metadata": {},
   "source": []
  },
  {
   "cell_type": "code",
   "execution_count": 10,
   "metadata": {},
   "outputs": [
    {
     "name": "stdout",
     "output_type": "stream",
     "text": [
      "102030"
     ]
    }
   ],
   "source": [
    "print(10,end=\"\")\n",
    "print(20,end=\"\")\n",
    "print(30,end=\"\")"
   ]
  },
  {
   "cell_type": "code",
   "execution_count": 11,
   "metadata": {},
   "outputs": [
    {
     "name": "stdout",
     "output_type": "stream",
     "text": [
      "python3\n"
     ]
    }
   ],
   "source": [
    "print('python'+str(3))"
   ]
  },
  {
   "cell_type": "code",
   "execution_count": 12,
   "metadata": {},
   "outputs": [
    {
     "data": {
      "text/plain": [
       "97"
      ]
     },
     "execution_count": 12,
     "metadata": {},
     "output_type": "execute_result"
    }
   ],
   "source": [
    "ord('a')"
   ]
  },
  {
   "cell_type": "code",
   "execution_count": 13,
   "metadata": {},
   "outputs": [
    {
     "data": {
      "text/plain": [
       "'a'"
      ]
     },
     "execution_count": 13,
     "metadata": {},
     "output_type": "execute_result"
    }
   ],
   "source": [
    "chr(97)"
   ]
  },
  {
   "cell_type": "code",
   "execution_count": 14,
   "metadata": {},
   "outputs": [
    {
     "name": "stdout",
     "output_type": "stream",
     "text": [
      "my \n",
      "name \n",
      "is \n",
      "judes\n"
     ]
    }
   ],
   "source": [
    "print(\"\"\"my \n",
    "name \n",
    "is \n",
    "judes\"\"\")"
   ]
  },
  {
   "cell_type": "code",
   "execution_count": 15,
   "metadata": {},
   "outputs": [
    {
     "name": "stdout",
     "output_type": "stream",
     "text": [
      "True\n",
      "True\n",
      "False\n",
      "True\n"
     ]
    }
   ],
   "source": [
    " poem=\"Two Roads Diverged In a Yellow Wood\"\n",
    "print('Two' in poem)\n",
    "print('two' not in poem)\n",
    "print(poem is \"judes\")\n",
    "print(poem is not \"judes\")"
   ]
  },
  {
   "cell_type": "code",
   "execution_count": 16,
   "metadata": {},
   "outputs": [
    {
     "name": "stdout",
     "output_type": "stream",
     "text": [
      "True\n"
     ]
    }
   ],
   "source": [
    "name='judes'\n",
    "age='25'\n",
    "print(name is 'judes')"
   ]
  },
  {
   "cell_type": "markdown",
   "metadata": {},
   "source": [
    "# CASE BASED ATTRIBUTE FETCHING FUNCTIONS"
   ]
  },
  {
   "cell_type": "code",
   "execution_count": 17,
   "metadata": {},
   "outputs": [
    {
     "name": "stdout",
     "output_type": "stream",
     "text": [
      "two roads diverged in a yellow wood\n",
      "TWO ROADS DIVERGED IN A YELLOW WOOD\n",
      "tWO rOADS dIVERGED iN A yELLOW wOOD\n",
      "Two roads diverged in a yellow wood\n",
      "Two Roads Diverged In A Yellow Wood\n"
     ]
    }
   ],
   "source": [
    "print(poem.lower())\n",
    "print(poem.upper())\n",
    "print(poem.swapcase())\n",
    "print(poem.capitalize())\n",
    "print(poem.title())"
   ]
  },
  {
   "cell_type": "code",
   "execution_count": 18,
   "metadata": {},
   "outputs": [
    {
     "name": "stdout",
     "output_type": "stream",
     "text": [
      "True\n",
      "True\n",
      "False\n",
      "True\n",
      "True\n",
      "False\n",
      "True\n"
     ]
    }
   ],
   "source": [
    "print(poem.startswith('Two'))\n",
    "print(poem.startswith('Two Roads Div'))\n",
    "print(poem.startswith('two'))\n",
    "print(poem.endswith('Wood'))\n",
    "print(poem.endswith('ow Wood'))\n",
    "print(poem.endswith('wood'))\n",
    "print(poem.capitalize().endswith('wood'))\n"
   ]
  },
  {
   "cell_type": "code",
   "execution_count": 19,
   "metadata": {},
   "outputs": [
    {
     "name": "stdout",
     "output_type": "stream",
     "text": [
      "False\n",
      "True\n",
      "True\n",
      "False\n",
      "True\n",
      "False\n"
     ]
    }
   ],
   "source": [
    "print(name.isdigit())\n",
    "print(age.isdigit())\n",
    "print(age.isdecimal())\n",
    "print(name.isdecimal())\n",
    "print(name.isalpha())\n",
    "print(age.isalpha())"
   ]
  },
  {
   "cell_type": "markdown",
   "metadata": {},
   "source": [
    "# parameterised functions"
   ]
  },
  {
   "cell_type": "code",
   "execution_count": 20,
   "metadata": {},
   "outputs": [
    {
     "name": "stdout",
     "output_type": "stream",
     "text": [
      "35\n",
      "5\n",
      "2\n",
      "5\n",
      "1\n",
      "1\n",
      "0\n"
     ]
    }
   ],
   "source": [
    "print(len(poem))\n",
    "print(len(name))\n",
    "print(len(age))\n",
    "print(poem.count('o'))\n",
    "print(name.count('u'))\n",
    "print(name.count('judes'))\n",
    "print(name.count('jo'))"
   ]
  },
  {
   "cell_type": "code",
   "execution_count": 21,
   "metadata": {},
   "outputs": [
    {
     "name": "stdout",
     "output_type": "stream",
     "text": [
      "Two Roads Diverged In a Yellow Wood\n",
      "19\n",
      "6\n",
      "10\n",
      "7\n",
      "17\n",
      "34\n",
      "34\n",
      "-1\n"
     ]
    }
   ],
   "source": [
    "print(poem)\n",
    "print(poem.index('In'))\n",
    "print(poem.index('a'))\n",
    "print(poem.index('D'))\n",
    "print(poem.index('d'))\n",
    "print(poem.index('d',8))\n",
    "print(poem.index('d',18))\n",
    "print(poem.find('d',18))\n",
    "print(poem.find('z'))"
   ]
  },
  {
   "cell_type": "code",
   "execution_count": 22,
   "metadata": {},
   "outputs": [
    {
     "name": "stdout",
     "output_type": "stream",
     "text": [
      "Two Roads Diverged In a Brown Wood\n",
      "Two Roads Diverged In a yellow Wood\n"
     ]
    }
   ],
   "source": [
    "print(poem.replace('Yellow','Brown'))\n",
    "print(poem.replace('Y','y'))\n"
   ]
  },
  {
   "cell_type": "code",
   "execution_count": 23,
   "metadata": {},
   "outputs": [
    {
     "name": "stdout",
     "output_type": "stream",
     "text": [
      "['Two', 'Roads', 'Diverged', 'In', 'a', 'Yellow', 'Wood']\n",
      "['Two Ro', 'ds Diverged In ', ' Yellow Wood']\n",
      "['Two Roads Diverged ', ' a Yellow Wood']\n"
     ]
    }
   ],
   "source": [
    "print(poem.split())\n",
    "print(poem.split('a'))\n",
    "print(poem.split('In'))\n",
    "poetry=(poem.split('a'))"
   ]
  },
  {
   "cell_type": "code",
   "execution_count": 24,
   "metadata": {},
   "outputs": [
    {
     "name": "stdout",
     "output_type": "stream",
     "text": [
      "Two Roads Diverged In a Yellow Wood\n"
     ]
    }
   ],
   "source": [
    "print('a'.join(poetry))"
   ]
  },
  {
   "cell_type": "code",
   "execution_count": 25,
   "metadata": {},
   "outputs": [
    {
     "name": "stdout",
     "output_type": "stream",
     "text": [
      "Two Roads Diverged In a Yellow Wood\n",
      "['Two Ro', 'ds Diverged In ', ' Yellow Wood']\n"
     ]
    }
   ],
   "source": [
    "print(poem)\n",
    "print(poetry)"
   ]
  },
  {
   "cell_type": "code",
   "execution_count": 26,
   "metadata": {},
   "outputs": [
    {
     "name": "stdout",
     "output_type": "stream",
     "text": [
      "Do not go gentle into that good night\n",
      "Do not go gentle into that good night   \n",
      "   Do not go gentle into that good night\n",
      "o not go gentle into that good night\n"
     ]
    }
   ],
   "source": [
    "poem_2='   Do not go gentle into that good night   '\n",
    "print(poem_2.strip())\n",
    "print(poem_2.lstrip())\n",
    "print(poem_2.rstrip())\n",
    "print(poem_2.strip(' D'))"
   ]
  },
  {
   "cell_type": "code",
   "execution_count": 27,
   "metadata": {},
   "outputs": [
    {
     "name": "stdout",
     "output_type": "stream",
     "text": [
      "025\n"
     ]
    }
   ],
   "source": [
    "print(age.zfill(3))"
   ]
  },
  {
   "cell_type": "markdown",
   "metadata": {},
   "source": [
    "# conditional statements "
   ]
  },
  {
   "cell_type": "code",
   "execution_count": 28,
   "metadata": {},
   "outputs": [
    {
     "name": "stdout",
     "output_type": "stream",
     "text": [
      "you're eligible to vote\n"
     ]
    }
   ],
   "source": [
    "my_age=25\n",
    "if my_age>18:\n",
    "    print(\"you're eligible to vote\")\n",
    "else:\n",
    "    print(\"you're not eligible to vote\")"
   ]
  },
  {
   "cell_type": "markdown",
   "metadata": {},
   "source": [
    "# even/odd"
   ]
  },
  {
   "cell_type": "code",
   "execution_count": 29,
   "metadata": {},
   "outputs": [
    {
     "name": "stdout",
     "output_type": "stream",
     "text": [
      "enter a number: 105\n",
      "odd\n"
     ]
    }
   ],
   "source": [
    "number=input('enter a number: ')\n",
    "if number.isdigit():\n",
    "    number=int(number)\n",
    "    if number%2==0:\n",
    "        print('even')\n",
    "    else:\n",
    "        print('odd')\n",
    "else:\n",
    "    print('invalid input')"
   ]
  },
  {
   "cell_type": "markdown",
   "metadata": {},
   "source": [
    "# square of floatvalue"
   ]
  },
  {
   "cell_type": "code",
   "execution_count": 30,
   "metadata": {},
   "outputs": [
    {
     "name": "stdout",
     "output_type": "stream",
     "text": [
      "enter a floatvalue: 10.7\n",
      "100\n",
      "49\n"
     ]
    }
   ],
   "source": [
    "value=input('enter a floatvalue: ')\n",
    "if value.count('.')==1:\n",
    "    ind=value.index('.')\n",
    "    f= value[:ind]\n",
    "    s= value[ind+1:]\n",
    "    if f.isdigit() and s.isdigit():\n",
    "        print(int(f)**2)\n",
    "        print(int(s)**2)\n",
    "    else:\n",
    "        print(len(f))\n",
    "        print(len(s))\n",
    "else:\n",
    "    print('invalid value')"
   ]
  },
  {
   "cell_type": "markdown",
   "metadata": {},
   "source": [
    "# multiples of 3 and 5 "
   ]
  },
  {
   "cell_type": "code",
   "execution_count": 31,
   "metadata": {},
   "outputs": [
    {
     "name": "stdout",
     "output_type": "stream",
     "text": [
      "enter a number: 25\n",
      "25 is a multiple of 5\n"
     ]
    }
   ],
   "source": [
    "num= int(input('enter a number: '))\n",
    "if num%3==0 and num%5==0:\n",
    "    print(str(num)+' is a multiple of 3 and 5')\n",
    "elif num%3==0:\n",
    "    print(str(num)+' is a multiple of 3')\n",
    "elif num%5==0:\n",
    "    print(str(num)+' is a multiple of 5')\n",
    "else:\n",
    "    print(str(num)+' is not a multiple of 3 and 5')\n",
    "        "
   ]
  },
  {
   "cell_type": "markdown",
   "metadata": {},
   "source": [
    "# replacing word in a statement"
   ]
  },
  {
   "cell_type": "code",
   "execution_count": 32,
   "metadata": {},
   "outputs": [
    {
     "name": "stdout",
     "output_type": "stream",
     "text": [
      "enter a statement: judes\n",
      "enter a word: j\n",
      "enter a new word: d\n",
      "dudes\n"
     ]
    }
   ],
   "source": [
    "stmt=input('enter a statement: ')\n",
    "word=input('enter a word: ')\n",
    "if word in stmt:\n",
    "    newword=input('enter a new word: ')\n",
    "    print(stmt.replace(word,newword))\n",
    "else:\n",
    "    print(word+' not in statement')"
   ]
  },
  {
   "cell_type": "markdown",
   "metadata": {},
   "source": [
    "# converting 12hr to 24hr"
   ]
  },
  {
   "cell_type": "code",
   "execution_count": 33,
   "metadata": {},
   "outputs": [
    {
     "name": "stdout",
     "output_type": "stream",
     "text": [
      "enter the time in hh:mm:ssFF- 08:24:24pm\n",
      "20:24:24\n"
     ]
    }
   ],
   "source": [
    "time=input('enter the time in hh:mm:ssFF- ')\n",
    "if time.count(':')==2 and len(time)==10:\n",
    "    if time.endswith('pm'):\n",
    "        hh=time[0:2]\n",
    "        print('%d%s' %(int(hh)+12, time[2:8]))\n",
    "    else:\n",
    "        print(time[:8])\n",
    "else:\n",
    "    print('invalid time entered')"
   ]
  },
  {
   "cell_type": "markdown",
   "metadata": {},
   "source": [
    "# printing * pattern"
   ]
  },
  {
   "cell_type": "code",
   "execution_count": 34,
   "metadata": {},
   "outputs": [
    {
     "name": "stdout",
     "output_type": "stream",
     "text": [
      "enter a num: 5\n",
      "*\n",
      "**\n",
      "***\n",
      "****\n",
      "*****\n"
     ]
    }
   ],
   "source": [
    "pat=int(input('enter a num: '))\n",
    "for i in range(1,pat+1):\n",
    "    print('*'*i)"
   ]
  },
  {
   "cell_type": "markdown",
   "metadata": {},
   "source": [
    "# printing string pattern"
   ]
  },
  {
   "cell_type": "code",
   "execution_count": 35,
   "metadata": {},
   "outputs": [
    {
     "name": "stdout",
     "output_type": "stream",
     "text": [
      "enter a num: 5\n",
      "1\n",
      "22\n",
      "333\n",
      "4444\n",
      "55555\n"
     ]
    }
   ],
   "source": [
    "strpat=int(input('enter a num: '))\n",
    "for i in range(1,strpat+1):\n",
    "    print(str(i)*i)"
   ]
  },
  {
   "cell_type": "code",
   "execution_count": 36,
   "metadata": {},
   "outputs": [
    {
     "name": "stdout",
     "output_type": "stream",
     "text": [
      "enter a num: 5\n",
      "a\n",
      "bb\n",
      "ccc\n",
      "dddd\n",
      "eeeee\n"
     ]
    }
   ],
   "source": [
    "alppat=int(input('enter a num: '))\n",
    "s=ord('a')\n",
    "for i in range(1,alppat+1):\n",
    "    print(chr(s)*i)\n",
    "    s=s+1"
   ]
  },
  {
   "cell_type": "markdown",
   "metadata": {},
   "source": [
    "# prime or composite"
   ]
  },
  {
   "cell_type": "code",
   "execution_count": 37,
   "metadata": {},
   "outputs": [
    {
     "name": "stdout",
     "output_type": "stream",
     "text": [
      "enter a number: 27\n",
      "27 is a composite number\n"
     ]
    }
   ],
   "source": [
    "n=int(input('enter a number: '))\n",
    "c=0\n",
    "for i in range(1,n+1):\n",
    "    if n%i==0:\n",
    "        c=c+1\n",
    "if c>2:\n",
    "    print(str(n)+' is a composite number')\n",
    "else:\n",
    "    print(str(n)+' is a prime number')"
   ]
  },
  {
   "cell_type": "markdown",
   "metadata": {},
   "source": [
    "# prime or composite b/w numbers"
   ]
  },
  {
   "cell_type": "code",
   "execution_count": 38,
   "metadata": {},
   "outputs": [
    {
     "name": "stdout",
     "output_type": "stream",
     "text": [
      "enter the start number: 0\n",
      "enter the end number: 10\n",
      "0 is a prime number\n",
      "1 is a prime number\n",
      "2 is a prime number\n",
      "3 is a prime number\n",
      "4 is a composite number with 3 factors\n",
      "5 is a prime number\n",
      "6 is a composite number with 4 factors\n",
      "7 is a prime number\n",
      "8 is a composite number with 4 factors\n",
      "9 is a composite number with 3 factors\n",
      "10 is a composite number with 4 factors\n"
     ]
    }
   ],
   "source": [
    "s=int(input('enter the start number: '))\n",
    "e=int(input('enter the end number: '))\n",
    "for num in range(s,e+1):\n",
    "    c=0\n",
    "    for i in range(1,num+1):\n",
    "        if num%i==0:\n",
    "            c=c+1\n",
    "    if c > 2:\n",
    "        print(str(num) + ' is a composite number with ' + str(c)+ ' factors')\n",
    "    else:\n",
    "        print(str(num) + ' is a prime number')"
   ]
  },
  {
   "cell_type": "markdown",
   "metadata": {},
   "source": [
    "# Iterating a string"
   ]
  },
  {
   "cell_type": "code",
   "execution_count": 39,
   "metadata": {},
   "outputs": [
    {
     "name": "stdout",
     "output_type": "stream",
     "text": [
      "j\n",
      "u\n",
      "d\n",
      "e\n",
      "s\n"
     ]
    }
   ],
   "source": [
    "for i in name:\n",
    "    print(i)"
   ]
  },
  {
   "cell_type": "markdown",
   "metadata": {},
   "source": [
    "# finding vowels in a statement"
   ]
  },
  {
   "cell_type": "code",
   "execution_count": 42,
   "metadata": {},
   "outputs": [
    {
     "name": "stdout",
     "output_type": "stream",
     "text": [
      "enter the statement: hi judes\n",
      "iue"
     ]
    }
   ],
   "source": [
    "stmt=input('enter the statement: ')\n",
    "vowels='aeiou'\n",
    "for i in stmt:\n",
    "     if i.lower() in vowels:\n",
    "         print(i,end=\"\")"
   ]
  },
  {
   "cell_type": "markdown",
   "metadata": {},
   "source": [
    "# characters in ascending after the given input letter"
   ]
  },
  {
   "cell_type": "code",
   "execution_count": 41,
   "metadata": {},
   "outputs": [
    {
     "name": "stdout",
     "output_type": "stream",
     "text": [
      "enter a statement: hi how are you\n",
      "enter a letter: o\n",
      "wryu"
     ]
    }
   ],
   "source": [
    "stmt=input('enter a statement: ')\n",
    "letter=input('enter a letter: ')\n",
    "for i in stmt:\n",
    "    if ord(i)>ord(letter):\n",
    "        print(i,end=\"\")"
   ]
  },
  {
   "cell_type": "markdown",
   "metadata": {},
   "source": [
    "# for knowing the datatype definition"
   ]
  },
  {
   "cell_type": "code",
   "execution_count": 45,
   "metadata": {},
   "outputs": [
    {
     "name": "stdout",
     "output_type": "stream",
     "text": [
      "['__abs__', '__add__', '__and__', '__bool__', '__ceil__', '__class__', '__delattr__', '__dir__', '__divmod__', '__doc__', '__eq__', '__float__', '__floor__', '__floordiv__', '__format__', '__ge__', '__getattribute__', '__getnewargs__', '__gt__', '__hash__', '__index__', '__init__', '__init_subclass__', '__int__', '__invert__', '__le__', '__lshift__', '__lt__', '__mod__', '__mul__', '__ne__', '__neg__', '__new__', '__or__', '__pos__', '__pow__', '__radd__', '__rand__', '__rdivmod__', '__reduce__', '__reduce_ex__', '__repr__', '__rfloordiv__', '__rlshift__', '__rmod__', '__rmul__', '__ror__', '__round__', '__rpow__', '__rrshift__', '__rshift__', '__rsub__', '__rtruediv__', '__rxor__', '__setattr__', '__sizeof__', '__str__', '__sub__', '__subclasshook__', '__truediv__', '__trunc__', '__xor__', 'bit_length', 'conjugate', 'denominator', 'from_bytes', 'imag', 'numerator', 'real', 'to_bytes']\n",
      "['__add__', '__class__', '__contains__', '__delattr__', '__dir__', '__doc__', '__eq__', '__format__', '__ge__', '__getattribute__', '__getitem__', '__getnewargs__', '__gt__', '__hash__', '__init__', '__init_subclass__', '__iter__', '__le__', '__len__', '__lt__', '__mod__', '__mul__', '__ne__', '__new__', '__reduce__', '__reduce_ex__', '__repr__', '__rmod__', '__rmul__', '__setattr__', '__sizeof__', '__str__', '__subclasshook__', 'capitalize', 'casefold', 'center', 'count', 'encode', 'endswith', 'expandtabs', 'find', 'format', 'format_map', 'index', 'isalnum', 'isalpha', 'isascii', 'isdecimal', 'isdigit', 'isidentifier', 'islower', 'isnumeric', 'isprintable', 'isspace', 'istitle', 'isupper', 'join', 'ljust', 'lower', 'lstrip', 'maketrans', 'partition', 'replace', 'rfind', 'rindex', 'rjust', 'rpartition', 'rsplit', 'rstrip', 'split', 'splitlines', 'startswith', 'strip', 'swapcase', 'title', 'translate', 'upper', 'zfill']\n"
     ]
    }
   ],
   "source": [
    "print(dir(int))\n",
    "print(dir(str))"
   ]
  },
  {
   "cell_type": "markdown",
   "metadata": {},
   "source": [
    "# for knowing the function definition"
   ]
  },
  {
   "cell_type": "code",
   "execution_count": 46,
   "metadata": {},
   "outputs": [
    {
     "name": "stdout",
     "output_type": "stream",
     "text": [
      "Return True if the string is an alphabetic string, False otherwise.\n",
      "\n",
      "A string is alphabetic if all characters in the string are alphabetic and there\n",
      "is at least one character in the string.\n"
     ]
    }
   ],
   "source": [
    "print(str.isalpha.__doc__)"
   ]
  },
  {
   "cell_type": "markdown",
   "metadata": {},
   "source": [
    "# finding the index values of the given input letter using range function"
   ]
  },
  {
   "cell_type": "code",
   "execution_count": 49,
   "metadata": {},
   "outputs": [
    {
     "name": "stdout",
     "output_type": "stream",
     "text": [
      "enter a stament: Out of the night that covers me\n",
      "enter a letter: e\n",
      "9\n",
      "25\n",
      "30\n"
     ]
    }
   ],
   "source": [
    "stmt=input('enter a stament: ')\n",
    "letter=input('enter a letter: ')\n",
    "for i in range(len(stmt)):\n",
    "    if stmt[i]==letter:\n",
    "        print(i)"
   ]
  },
  {
   "cell_type": "markdown",
   "metadata": {},
   "source": [
    "# finding the index values of the given input letter using index function"
   ]
  },
  {
   "cell_type": "code",
   "execution_count": 50,
   "metadata": {},
   "outputs": [
    {
     "name": "stdout",
     "output_type": "stream",
     "text": [
      "enter a stament: Out of the night that covers me\n",
      "enter a letter: e\n",
      "9\n",
      "25\n",
      "30\n"
     ]
    }
   ],
   "source": [
    "stmt=input('enter a stament: ')\n",
    "letter=input('enter a letter: ')\n",
    "ind=-1 #to start from 0 put -1\n",
    "for i in stmt:\n",
    "    if i==letter:\n",
    "        ind=stmt.index(i,ind+1)\n",
    "        print(ind)"
   ]
  },
  {
   "cell_type": "markdown",
   "metadata": {},
   "source": [
    "# find the next letter in words"
   ]
  },
  {
   "cell_type": "code",
   "execution_count": 1,
   "metadata": {},
   "outputs": [
    {
     "name": "stdin",
     "output_type": "stream",
     "text": [
      "enter a word:  judes\n"
     ]
    },
    {
     "name": "stdout",
     "output_type": "stream",
     "text": [
      "kveft\n"
     ]
    }
   ],
   "source": [
    "word=input('enter a word: ')\n",
    "op=\"\"\n",
    "for i in word:\n",
    "    op=op+chr(ord(i)+1)\n",
    "print(op)"
   ]
  },
  {
   "cell_type": "markdown",
   "metadata": {},
   "source": [
    "# Collections-Lists(mutable)"
   ]
  },
  {
   "cell_type": "code",
   "execution_count": 22,
   "metadata": {},
   "outputs": [
    {
     "name": "stdout",
     "output_type": "stream",
     "text": [
      "[1, 5, 6, 8, 10, 30, 20, 55, 88, 66, 94, 15, 7, 3]\n"
     ]
    }
   ],
   "source": [
    "l1=[1,5,6,8,10,30]\n",
    "l2=[20,55,88,66,94,15,7,3]\n",
    "l3=l1+l2\n",
    "print(l3)"
   ]
  },
  {
   "cell_type": "code",
   "execution_count": 35,
   "metadata": {},
   "outputs": [
    {
     "name": "stdout",
     "output_type": "stream",
     "text": [
      "2\n",
      "300\n",
      "[1, 5, 6, 8, 300, 300, 300]\n",
      "[6, 8, 300, 300]\n",
      "[1, 6, 300, 300, 300, 30]\n",
      "[1, 5, 6, 'python', 'php', 'java', 30, 100]\n",
      "[1, 5, 6, 8, 300, 300, 300, 300, 300, 10, 30, 20, 55, 88, 66, 94, 15, 7, 3, 300, 100, 300, 100]\n",
      "[1, 5, 6, 'python', 'java', 30, 100]\n",
      "[1, 5, 6, 8, 300, 300, 300, 300, 300, 10, 30, 20, 55, 88, 66, 94, 15, 7, 3, 300, 100, 300, 100, 100]\n",
      "[1, 5, 6, 8, 300, 300, 300, 300, 300, 300, 10, 30, 20, 55, 88, 66, 94, 15, 7, 3, 300, 100, 300, 100, 100]\n",
      "[1, 5, 6, 8, 300, 300, 300, 300, 300, 300, 10, 30, 20, 55, 88, 66, 94, 15, 7, 3, 300, 100, 300, 100]\n",
      "[1, 5, 6, 8, 300, 300, 300, 300, 300, 300, 10, 30, 20, 55, 88, 66, 94, 15, 7, 3, 300, 300, 100]\n",
      "[1, 5, 6, 8, 300, 300, 300, 300, 300, 300, 10, 30, 20, 55, 88, 66, 94, 15, 7, 3, 300, 300, 100, 1, 5, 6, 'python', 'java', 30, 100, 'php', 'rust', 'matlab']\n"
     ]
    }
   ],
   "source": [
    "print(l1.index(6))\n",
    "print(l3[7])\n",
    "print(l3[:7])\n",
    "print(l3[2:6])\n",
    "print(l3[:12:2])\n",
    "l1[3:5]=['python','php','java']\n",
    "print(l1)\n",
    "print(l3)\n",
    "del l1[4]\n",
    "print(l1)\n",
    "l3.append(100)\n",
    "print(l3)\n",
    "l3.insert(4,300)\n",
    "print(l3)\n",
    "l3.pop()\n",
    "print(l3)\n",
    "l3.remove(100)\n",
    "print(l3)\n",
    "l1.append('php')\n",
    "l1.append('rust')\n",
    "l1.append('matlab')\n",
    "l4=l3+l1\n",
    "print(l4)"
   ]
  },
  {
   "cell_type": "markdown",
   "metadata": {},
   "source": [
    "# separating numbers and strings"
   ]
  },
  {
   "cell_type": "code",
   "execution_count": 36,
   "metadata": {},
   "outputs": [
    {
     "name": "stdout",
     "output_type": "stream",
     "text": [
      "[1, 5, 6, 8, 300, 300, 300, 300, 300, 300, 10, 30, 20, 55, 88, 66, 94, 15, 7, 3, 300, 300, 100, 1, 5, 6, 30, 100]\n",
      "['python', 'java', 'php', 'rust', 'matlab']\n"
     ]
    }
   ],
   "source": [
    "nums=[]\n",
    "strs=[]\n",
    "for i in l4:\n",
    "    if type(i) is int:\n",
    "        nums.append(i)\n",
    "    else:\n",
    "        strs.append(i)\n",
    "print(nums)\n",
    "print(strs)"
   ]
  },
  {
   "cell_type": "code",
   "execution_count": 37,
   "metadata": {},
   "outputs": [
    {
     "name": "stdout",
     "output_type": "stream",
     "text": [
      "[1, 5, 6, 8, 300, 300, 300, 300, 300, 300, 10, 30, 20, 55, 88, 66, 94, 15, 7, 3, 300, 300, 100, 1, 5, 6, 'python', 'java', 30, 100, 'php', 'rust', 'matlab']\n"
     ]
    }
   ],
   "source": [
    "print(l4)"
   ]
  },
  {
   "cell_type": "code",
   "execution_count": 42,
   "metadata": {},
   "outputs": [
    {
     "name": "stdout",
     "output_type": "stream",
     "text": [
      "[10, 20, 30, 40, ['java', 'php', 'py'], 50, 60, 70, ['rust', 'matlab', 'ruby'], 80, 90, 10]\n",
      "['java', 'php', 'py']\n",
      "50\n",
      "php\n"
     ]
    }
   ],
   "source": [
    "l5=[10,20,30,40,['java','php','py'],50,60,70,['rust','matlab','ruby'],80,90,10]\n",
    "print(l5)\n",
    "print(l5[4])\n",
    "print(l5[5])\n",
    "print(l5[4][1])"
   ]
  },
  {
   "cell_type": "markdown",
   "metadata": {},
   "source": [
    "# unpacking a nested list"
   ]
  },
  {
   "cell_type": "code",
   "execution_count": 46,
   "metadata": {},
   "outputs": [
    {
     "name": "stdout",
     "output_type": "stream",
     "text": [
      "[10, 20, 30, 40, ['java', 'php', 'py'], 50, 60, 70, ['rust', 'matlab', 'ruby'], 80, 90, 10]\n",
      "[10, 20, 30, 40, 'java', 'php', 'py', 50, 60, 70, 'rust', 'matlab', 'ruby', 80, 90, 10]\n"
     ]
    }
   ],
   "source": [
    "print(l5)\n",
    "op=[]\n",
    "for i in l5:\n",
    "    if type(i) is list:\n",
    "        for j in i:\n",
    "            op.append(j)\n",
    "    else:\n",
    "        op.append(i)\n",
    "print(op)"
   ]
  },
  {
   "cell_type": "code",
   "execution_count": 1,
   "metadata": {},
   "outputs": [
    {
     "name": "stdout",
     "output_type": "stream",
     "text": [
      "[1, 2, 3, 4, 5, 6, 7, 8, 9, 10]\n"
     ]
    }
   ],
   "source": [
    "l6=[1,2,3,4,5]\n",
    "l7=[6,7,8,9,10]\n",
    "l6.extend(l7)\n",
    "print(l6)"
   ]
  },
  {
   "cell_type": "code",
   "execution_count": 7,
   "metadata": {},
   "outputs": [
    {
     "name": "stdout",
     "output_type": "stream",
     "text": [
      "[11, 12, 13, 14, 15, 16, 17, 18, 19, 20]\n",
      "[20, 19, 18, 17, 16, 15, 14, 13, 12, 11]\n",
      "[20, 19, 18, 17, 16, 15, 14, 13, 12, 11]\n"
     ]
    }
   ],
   "source": [
    "l8=[20,11,15,13,12,17,16,14,18,19]\n",
    "l8.sort()\n",
    "print(l8)\n",
    "l8.reverse()\n",
    "print(l8)\n",
    "l8.sort(reverse=True)\n",
    "print(l8)"
   ]
  },
  {
   "cell_type": "markdown",
   "metadata": {},
   "source": [
    "# printing nums in a sequence"
   ]
  },
  {
   "cell_type": "code",
   "execution_count": 9,
   "metadata": {},
   "outputs": [
    {
     "name": "stdout",
     "output_type": "stream",
     "text": [
      "enter a number: 10\n",
      "[1, 2, 3, 4, 5, 6, 7, 8, 9, 10]\n"
     ]
    }
   ],
   "source": [
    "n=int(input('enter a number: '))\n",
    "nums=[]\n",
    "for i in range(1,n+1):\n",
    "    nums.append(i)\n",
    "print(nums)"
   ]
  },
  {
   "cell_type": "markdown",
   "metadata": {},
   "source": [
    "# printing even numbers"
   ]
  },
  {
   "cell_type": "code",
   "execution_count": 10,
   "metadata": {},
   "outputs": [
    {
     "name": "stdout",
     "output_type": "stream",
     "text": [
      "enter a number: 10\n",
      "[2, 4, 6, 8, 10]\n"
     ]
    }
   ],
   "source": [
    "n=int(input('enter a number: '))\n",
    "evens=[]\n",
    "for i in range(1,n+1):\n",
    "    if i%2==0:\n",
    "        evens.append(i)\n",
    "print(evens)"
   ]
  },
  {
   "cell_type": "markdown",
   "metadata": {},
   "source": [
    "# printing square of  the numbers"
   ]
  },
  {
   "cell_type": "code",
   "execution_count": 11,
   "metadata": {},
   "outputs": [
    {
     "name": "stdout",
     "output_type": "stream",
     "text": [
      "enter a number: 10\n",
      "[1, 4, 9, 16, 25, 36, 49, 64, 81, 100]\n"
     ]
    }
   ],
   "source": [
    "n=int(input('enter a number: '))\n",
    "squares=[]\n",
    "for i in range(1,n+1):\n",
    "    res=i**2\n",
    "    squares.append(res)\n",
    "print(squares)"
   ]
  },
  {
   "cell_type": "markdown",
   "metadata": {},
   "source": [
    "# printing even squares of  the numbers"
   ]
  },
  {
   "cell_type": "code",
   "execution_count": 13,
   "metadata": {},
   "outputs": [
    {
     "name": "stdout",
     "output_type": "stream",
     "text": [
      "enter a number: 10\n",
      "[4, 16, 36, 64, 100]\n"
     ]
    }
   ],
   "source": [
    "n=int(input('enter a number: '))\n",
    "evensquares=[]\n",
    "for i in range(1,n+1):\n",
    "    if i%2==0:\n",
    "        res=i**2\n",
    "        evensquares.append(res)\n",
    "print(evensquares)"
   ]
  },
  {
   "cell_type": "markdown",
   "metadata": {},
   "source": [
    "# COMPREHENSIONS-Lists"
   ]
  },
  {
   "cell_type": "markdown",
   "metadata": {},
   "source": [
    "# printing nums in a sequence using comprehensions"
   ]
  },
  {
   "cell_type": "code",
   "execution_count": 22,
   "metadata": {},
   "outputs": [
    {
     "name": "stdout",
     "output_type": "stream",
     "text": [
      "enter a number: 10\n",
      "[1, 2, 3, 4, 5, 6, 7, 8, 9, 10]\n"
     ]
    }
   ],
   "source": [
    "n=int(input('enter a number: '))\n",
    "nums=[i for i in range(1,n+1)]\n",
    "print(nums)"
   ]
  },
  {
   "cell_type": "markdown",
   "metadata": {},
   "source": [
    "# printing even numbers using comprehensions"
   ]
  },
  {
   "cell_type": "code",
   "execution_count": 19,
   "metadata": {},
   "outputs": [
    {
     "name": "stdout",
     "output_type": "stream",
     "text": [
      "enter a number: 10\n",
      "[2, 4, 6, 8, 10]\n"
     ]
    }
   ],
   "source": [
    "n=int(input('enter a number: '))\n",
    "evens=[i for i in range(1,n+1) if i%2==0]\n",
    "print(evens)"
   ]
  },
  {
   "cell_type": "markdown",
   "metadata": {},
   "source": [
    "# printing square of  the numbers using comprehensions"
   ]
  },
  {
   "cell_type": "code",
   "execution_count": 21,
   "metadata": {},
   "outputs": [
    {
     "name": "stdout",
     "output_type": "stream",
     "text": [
      "enter a number: 10\n",
      "[1, 4, 9, 16, 25, 36, 49, 64, 81, 100]\n"
     ]
    }
   ],
   "source": [
    "n=int(input('enter a number: '))\n",
    "squares=[i**2 for i in range(1,n+1)]\n",
    "print(squares)"
   ]
  },
  {
   "cell_type": "markdown",
   "metadata": {},
   "source": [
    "# printing even squares of  the numbers using comprehensions"
   ]
  },
  {
   "cell_type": "code",
   "execution_count": 23,
   "metadata": {},
   "outputs": [
    {
     "name": "stdout",
     "output_type": "stream",
     "text": [
      "enter a number: 10\n",
      "[4, 16, 36, 64, 100]\n"
     ]
    }
   ],
   "source": [
    "n=int(input('enter a number: '))\n",
    "evenssquares=[i**2 for i in range(1,n+1) if i%2==0]\n",
    "print(evenssquares)"
   ]
  },
  {
   "cell_type": "markdown",
   "metadata": {},
   "source": [
    "# printing words which has more than 5 letters"
   ]
  },
  {
   "cell_type": "code",
   "execution_count": 31,
   "metadata": {},
   "outputs": [
    {
     "name": "stdout",
     "output_type": "stream",
     "text": [
      "['python', 'machine', 'learning']\n"
     ]
    }
   ],
   "source": [
    "stmt='python and machine learning'\n",
    "words=[i for i in stmt.split() if len(i)>5]\n",
    "print(words)"
   ]
  },
  {
   "cell_type": "markdown",
   "metadata": {},
   "source": [
    "# program for words whose length is less than 5 as a list of characters"
   ]
  },
  {
   "cell_type": "code",
   "execution_count": 34,
   "metadata": {},
   "outputs": [
    {
     "name": "stdout",
     "output_type": "stream",
     "text": [
      "[['i', 's'], ['e', 'a', 's', 'y'], ['f', 'o', 'r']]\n"
     ]
    }
   ],
   "source": [
    "stmt='python is easy for coding'\n",
    "words=[[j for j in i]for i in stmt.split() if len(i)<5]\n",
    "print(words)"
   ]
  },
  {
   "cell_type": "markdown",
   "metadata": {},
   "source": [
    "# Collections-Tuples(immutable)"
   ]
  },
  {
   "cell_type": "code",
   "execution_count": 41,
   "metadata": {},
   "outputs": [
    {
     "name": "stdout",
     "output_type": "stream",
     "text": [
      "8\n",
      "(6, 10)\n",
      "(9, 7, 10, 6)\n",
      "2861079"
     ]
    }
   ],
   "source": [
    "nums=(2,8,6,10,7,9)\n",
    "print(nums[1])\n",
    "print(nums[2:4])\n",
    "print(nums[5:1:-1])\n",
    "\n",
    "for i in nums:\n",
    "    print(i,end=\"\")"
   ]
  },
  {
   "cell_type": "code",
   "execution_count": 45,
   "metadata": {},
   "outputs": [
    {
     "name": "stdout",
     "output_type": "stream",
     "text": [
      "(20, 30, 40, 50, 60, 70)\n",
      "<class 'tuple'>\n",
      "[20, 30, 35, 50, 60, 70]\n",
      "<class 'list'>\n",
      "(20, 30, 35, 50, 60, 70)\n",
      "<class 'tuple'>\n"
     ]
    }
   ],
   "source": [
    "fees=(20,30,40,50,60,70)\n",
    "print(fees)\n",
    "print(type(fees))\n",
    "fees=list(fees)\n",
    "fees[2]=35\n",
    "print(fees)\n",
    "print(type(fees))\n",
    "fees=tuple(fees)\n",
    "print(fees)\n",
    "print(type(fees))"
   ]
  },
  {
   "cell_type": "markdown",
   "metadata": {},
   "source": [
    "# unpacking a nested tuple"
   ]
  },
  {
   "cell_type": "code",
   "execution_count": 47,
   "metadata": {},
   "outputs": [
    {
     "name": "stdout",
     "output_type": "stream",
     "text": [
      "<class 'tuple'>\n",
      "(20, 'python', 32, 4, 5, 'hyd', 6, 'java', 68, 'php')\n"
     ]
    }
   ],
   "source": [
    "t1=(20,'python',32,(4,5,'hyd'),6,['java',68],'php')\n",
    "print(type(t1))\n",
    "op=[]\n",
    "for i in t1:\n",
    "    if type(i) is int or type(i) is str:\n",
    "        op.append(i)\n",
    "    else:\n",
    "        for j in i:\n",
    "            op.append(j)\n",
    "op=tuple(op)\n",
    "print(op)"
   ]
  },
  {
   "cell_type": "markdown",
   "metadata": {},
   "source": [
    "# merging 2 tuples into a nested tuple"
   ]
  },
  {
   "cell_type": "code",
   "execution_count": 49,
   "metadata": {},
   "outputs": [
    {
     "name": "stdout",
     "output_type": "stream",
     "text": [
      "((1, 6), (2, 7), (3, 8), (4, 9), (5, 10))\n"
     ]
    }
   ],
   "source": [
    "t1=(1,2,3,4,5)\n",
    "t2=(6,7,8,9,10)\n",
    "op=[]\n",
    "for i in range(len(t1)):\n",
    "    l=t1[i],t2[i]\n",
    "    op.append(l)\n",
    "print(tuple(op))"
   ]
  },
  {
   "cell_type": "markdown",
   "metadata": {},
   "source": [
    "# COMPREHENSIONS-Tuples"
   ]
  },
  {
   "cell_type": "markdown",
   "metadata": {},
   "source": [
    "comprehensions can only be used in muatble datatypes and hence comprehensions cannot be used in tuples because they're immutable"
   ]
  },
  {
   "cell_type": "markdown",
   "metadata": {},
   "source": [
    "# Collections-Dictionaries(mutable)"
   ]
  },
  {
   "cell_type": "markdown",
   "metadata": {},
   "source": [
    "they are of key value pairs\n",
    "an item is a collection of key and value\n",
    "keys are heterogeneous,immutable dataType and unique(if repeated it will take the latest value)\n",
    "values are heterogeneous,any dataType and repetitve"
   ]
  },
  {
   "cell_type": "code",
   "execution_count": 3,
   "metadata": {},
   "outputs": [
    {
     "name": "stdout",
     "output_type": "stream",
     "text": [
      "judes\n",
      "roll\n",
      "dict_keys(['name', 'age', 'year', 10])\n",
      "dict_values(['judes', 25, 1994, 'roll'])\n",
      "dict_items([('name', 'judes'), ('age', 25), ('year', 1994), (10, 'roll')])\n",
      "{'name': 'sheriff', 'age': 25, 'year': 1994, 10: 'roll'}\n",
      "{'name': 'sheriff', 'age': 25, 'year': 1994, 10: 'roll', 'p.o.b': 'tuticorin'}\n",
      "5\n",
      "{'name': 'sheriff', 'age': 25, 'year': 1994, 'p.o.b': 'tuticorin'}\n"
     ]
    }
   ],
   "source": [
    "d1={'name':'judes','age':25,'year':1994,10:'roll'}\n",
    "print(d1['name'])\n",
    "print(d1[10])\n",
    "print(d1.keys())\n",
    "print(d1.values())\n",
    "print(d1.items())\n",
    "d1['name']='sheriff'\n",
    "print(d1)\n",
    "d1['p.o.b']='tuticorin'\n",
    "print(d1)\n",
    "print(len(d1))\n",
    "d1.pop(10)\n",
    "print(d1)\n",
    "#d1.popitem() removes arbitrary item"
   ]
  },
  {
   "cell_type": "code",
   "execution_count": 56,
   "metadata": {},
   "outputs": [
    {
     "name": "stdout",
     "output_type": "stream",
     "text": [
      "name\n",
      "age\n",
      "year\n",
      "10\n"
     ]
    }
   ],
   "source": [
    "for i in d1:\n",
    "    print(i)"
   ]
  },
  {
   "cell_type": "code",
   "execution_count": 60,
   "metadata": {},
   "outputs": [
    {
     "name": "stdout",
     "output_type": "stream",
     "text": [
      "('name', 'judes')\n",
      "('age', 25)\n",
      "('year', 1994)\n",
      "(10, 'roll')\n"
     ]
    }
   ],
   "source": [
    "for i in d1.items():\n",
    "    print(i)"
   ]
  },
  {
   "cell_type": "code",
   "execution_count": 8,
   "metadata": {},
   "outputs": [
    {
     "name": "stdout",
     "output_type": "stream",
     "text": [
      "{'name': 'sheriff', 'age': 25, 'year': 1994, 'p.o.b': 'chennai', 5: 6, 6: 7, 7: 8, 8: 9}\n",
      "{5: 6, 6: 7, 7: 8, 8: 9, 'p.o.b': 'chennai'}\n"
     ]
    }
   ],
   "source": [
    "d2={5:6,6:7,7:8,8:9,'p.o.b':'chennai'}\n",
    "d1.update(d2)\n",
    "print(d1)\n",
    "print(d2)\n",
    "#values will get updated when the keys are same"
   ]
  },
  {
   "cell_type": "markdown",
   "metadata": {},
   "source": [
    "# program for squaring a number from the given input number"
   ]
  },
  {
   "cell_type": "code",
   "execution_count": 9,
   "metadata": {},
   "outputs": [
    {
     "name": "stdout",
     "output_type": "stream",
     "text": [
      "enter a number: 5\n",
      "{1: 1, 2: 4, 3: 9, 4: 16, 5: 25}\n"
     ]
    }
   ],
   "source": [
    "n=int(input('enter a number: '))\n",
    "d={}\n",
    "for i in  range(1,n+1):\n",
    "    d[i]=i**2\n",
    "print(d)"
   ]
  },
  {
   "cell_type": "markdown",
   "metadata": {},
   "source": [
    "# merging two lists as a key value pair"
   ]
  },
  {
   "cell_type": "code",
   "execution_count": 10,
   "metadata": {},
   "outputs": [
    {
     "name": "stdout",
     "output_type": "stream",
     "text": [
      "{1: 6, 2: 7, 3: 8, 4: 9, 6: 10}\n"
     ]
    }
   ],
   "source": [
    "l1=[1,2,3,4,6]\n",
    "l2=[6,7,8,9,10]\n",
    "d={}\n",
    "for i in range(len(l1)):\n",
    "    d[l1[i]] = l2[i]\n",
    "print(d)"
   ]
  },
  {
   "cell_type": "markdown",
   "metadata": {},
   "source": [
    "# merging two lists as a key value pair  using zip function"
   ]
  },
  {
   "cell_type": "code",
   "execution_count": 6,
   "metadata": {},
   "outputs": [
    {
     "name": "stdout",
     "output_type": "stream",
     "text": [
      "[(5, 6), (7, 8), (9, 10), (11, 12), (13, 14)]\n",
      "{5: 6, 7: 8, 9: 10, 11: 12, 13: 14}\n",
      "((5, 6), (7, 8), (9, 10), (11, 12), (13, 14))\n"
     ]
    }
   ],
   "source": [
    "l1=[5,7,9,11,13]\n",
    "l2=[6,8,10,12,14]\n",
    "print(list(zip(l1,l2)))\n",
    "print(dict(zip(l1,l2)))\n",
    "print(tuple(zip(l1,l2)))"
   ]
  },
  {
   "cell_type": "markdown",
   "metadata": {},
   "source": [
    "# Comprehensions-Dictionaries(mutable)"
   ]
  },
  {
   "cell_type": "markdown",
   "metadata": {},
   "source": [
    "only one for loop can be written"
   ]
  },
  {
   "cell_type": "markdown",
   "metadata": {},
   "source": [
    "# program for squaring a number from the given input number using comprehensions"
   ]
  },
  {
   "cell_type": "code",
   "execution_count": 9,
   "metadata": {},
   "outputs": [
    {
     "name": "stdout",
     "output_type": "stream",
     "text": [
      "enter a number: 20\n",
      "{2: 4, 4: 16, 6: 36, 8: 64, 10: 100, 12: 144, 14: 196, 16: 256, 18: 324, 20: 400}\n"
     ]
    }
   ],
   "source": [
    "n=int(input('enter a number: '))\n",
    "d={i:i**2 for i in range(1,n+1) if i%2==0}\n",
    "print(d)"
   ]
  },
  {
   "cell_type": "markdown",
   "metadata": {},
   "source": [
    "# splitting the key into dictionaries"
   ]
  },
  {
   "cell_type": "code",
   "execution_count": 11,
   "metadata": {},
   "outputs": [
    {
     "name": "stdout",
     "output_type": "stream",
     "text": [
      "{'is': ['i', 's'], 'an': ['a', 'n'], 'easy': ['e', 'a', 's', 'y']}\n"
     ]
    }
   ],
   "source": [
    "stmt='python is an easy prograrmming language'\n",
    "d={i:[j for j in i]for i in stmt.split() if len(i)<5}\n",
    "print(d)"
   ]
  },
  {
   "cell_type": "markdown",
   "metadata": {},
   "source": [
    "# special collections"
   ]
  },
  {
   "cell_type": "markdown",
   "metadata": {},
   "source": [
    "there are two special collections\n",
    "        1)sets\n",
    "        2)frozensets"
   ]
  },
  {
   "cell_type": "markdown",
   "metadata": {},
   "source": [
    "# Sets"
   ]
  },
  {
   "cell_type": "markdown",
   "metadata": {},
   "source": [
    "Sets are\n",
    "        1)mutable\n",
    "        2)collections\n",
    "        3)not sequenced\n",
    "        4)not ordered\n",
    "        5)can be concatenated and iterated\n",
    "        6)no repetitions\n",
    "        7)only unique elements\n",
    "        8)heterogeneous"
   ]
  },
  {
   "cell_type": "code",
   "execution_count": 26,
   "metadata": {},
   "outputs": [
    {
     "name": "stdout",
     "output_type": "stream",
     "text": [
      "{2, 35, 6, 8, 78, 15, 62, 95}\n",
      "<class 'set'>\n",
      "{2, 35, 6, 8, 78, 15, 22, 62, 95}\n",
      "{2, 35, 6, 8, 15, 22, 62, 95}\n"
     ]
    }
   ],
   "source": [
    "nums={2,8,6,15,78,95,15,62,35}\n",
    "print(nums)\n",
    "print(type(nums))\n",
    "nums.add(22)\n",
    "print(nums)\n",
    "nums.remove(78)\n",
    "print(nums)"
   ]
  },
  {
   "cell_type": "code",
   "execution_count": 25,
   "metadata": {},
   "outputs": [
    {
     "name": "stdout",
     "output_type": "stream",
     "text": [
      "2\n",
      "35\n",
      "6\n",
      "8\n",
      "15\n",
      "22\n",
      "62\n",
      "95\n"
     ]
    }
   ],
   "source": [
    "for i in nums:\n",
    "    print(i)"
   ]
  },
  {
   "cell_type": "code",
   "execution_count": 36,
   "metadata": {},
   "outputs": [
    {
     "name": "stdout",
     "output_type": "stream",
     "text": [
      "{1, 98, 15, 48, 84, 23, 26, 59, 95}\n",
      "{1, 98, 15, 48, 84, 23, 26, 59, 95}\n",
      "{48, 26, 23}\n",
      "{48, 26, 23}\n",
      "{1, 98, 15}\n",
      "{1, 98, 15}\n",
      "{59, 84, 95}\n",
      "False\n",
      "False\n"
     ]
    }
   ],
   "source": [
    "s1={1,15,23,26,98,48}\n",
    "s2={23,59,84,26,48,95}\n",
    "s3={65,58,45,68,89,20}\n",
    "print(s1.union(s2))\n",
    "print(s1|s2)\n",
    "print(s1.intersection(s2))\n",
    "print(s1&s2)\n",
    "print(s1.difference(s2))\n",
    "print(s1-s2)\n",
    "print(s2.difference(s1))\n",
    "print(s1.issubset(s2))\n",
    "print(s1.isdisjoint(s2))"
   ]
  },
  {
   "cell_type": "markdown",
   "metadata": {},
   "source": [
    "# Functional programming "
   ]
  },
  {
   "cell_type": "markdown",
   "metadata": {},
   "source": [
    "they are\n",
    "    1)not mandatory\n",
    "    2)modularisation/reusability of code\n",
    "    3)called first class objects\n",
    "    4)class(function)\n",
    "they are classified into\n",
    "    1)predefined functions\n",
    "    2)user defined functions\n",
    "    "
   ]
  },
  {
   "cell_type": "code",
   "execution_count": 38,
   "metadata": {},
   "outputs": [
    {
     "name": "stdout",
     "output_type": "stream",
     "text": [
      "hi welcome\n",
      "hi welcome\n"
     ]
    }
   ],
   "source": [
    "def hello():\n",
    "    print('hi welcome')\n",
    "hello()\n",
    "hello()"
   ]
  },
  {
   "cell_type": "code",
   "execution_count": 41,
   "metadata": {},
   "outputs": [
    {
     "name": "stdout",
     "output_type": "stream",
     "text": [
      "hi judes\n"
     ]
    }
   ],
   "source": [
    "def greet(name):\n",
    "    print('hi '+ name)\n",
    "greet('judes')"
   ]
  },
  {
   "cell_type": "code",
   "execution_count": 43,
   "metadata": {},
   "outputs": [
    {
     "name": "stdout",
     "output_type": "stream",
     "text": [
      "username is judes\n",
      "password is jude4fun\n"
     ]
    }
   ],
   "source": [
    "def login(user,pwd):\n",
    "    print('username is ' + user)\n",
    "    print('password is ' + pwd)\n",
    "login('judes','jude4fun')"
   ]
  },
  {
   "cell_type": "code",
   "execution_count": 44,
   "metadata": {},
   "outputs": [
    {
     "name": "stdout",
     "output_type": "stream",
     "text": [
      "25\n"
     ]
    }
   ],
   "source": [
    "#only for 4 values\n",
    "def avg(a,b,c,d):\n",
    "    res=(a+b+c+d)//4\n",
    "    print(res)\n",
    "avg(10,20,30,40)"
   ]
  },
  {
   "cell_type": "code",
   "execution_count": 45,
   "metadata": {},
   "outputs": [
    {
     "name": "stdout",
     "output_type": "stream",
     "text": [
      "username is judes\n",
      "password is jude4fun\n"
     ]
    }
   ],
   "source": [
    "def login(user,pwd):\n",
    "    print('username is ' + user)\n",
    "    print('password is ' + pwd)\n",
    "login(pwd='jude4fun',user='judes')"
   ]
  },
  {
   "cell_type": "markdown",
   "metadata": {},
   "source": [
    "# Cake program"
   ]
  },
  {
   "cell_type": "code",
   "execution_count": 62,
   "metadata": {},
   "outputs": [
    {
     "name": "stdout",
     "output_type": "stream",
     "text": [
      "flavour of cake is vannila\n",
      "weight of cake is 3\n",
      "shape of cake is  round\n",
      "{}\n",
      "flavour of cake is chco\n",
      "weight of cake is 5\n",
      "shape of cake is  round\n",
      "{}\n",
      "flavour of cake is bs\n",
      "weight of cake is 3\n",
      "shape of cake is  oval\n",
      "{}\n",
      "flavour of cake is choco\n",
      "weight of cake is 3\n",
      "shape of cake is  round\n",
      "{}\n",
      "flavour of cake is pine\n",
      "weight of cake is 2\n",
      "shape of cake is  square\n",
      "{}\n",
      "flavour of cake is choco\n",
      "weight of cake is 4\n",
      "shape of cake is  oval\n",
      "{}\n",
      "flavour of cake is choco\n",
      "weight of cake is 2\n",
      "shape of cake is  round\n",
      "{}\n",
      "flavour of cake is choco\n",
      "weight of cake is 2\n",
      "shape of cake is  oval\n",
      "{}\n",
      "flavour of cake is vannila\n",
      "weight of cake is 3\n",
      "shape of cake is  round\n",
      "{'color': 'red', 'toppings': 'almond'}\n"
     ]
    }
   ],
   "source": [
    "def makecake(flav='choco',wei='2',shape='oval',**kwargs):\n",
    "    print('flavour of cake is '+ flav)\n",
    "    print('weight of cake is ' + wei)\n",
    "    print('shape of cake is  ' + shape)\n",
    "    print(kwargs)\n",
    "makecake(\"vannila\",\"3\",\"round\")\n",
    "makecake(\"chco\",shape=\"round\",wei=\"5\")\n",
    "makecake(wei=\"3\",flav=\"bs\",shape=\"oval\")\n",
    "makecake(wei=\"3\",shape=\"round\")\n",
    "makecake(\"pine\",shape=\"square\")\n",
    "makecake(wei=\"4\")\n",
    "makecake(shape=\"round\")\n",
    "makecake()\n",
    "makecake(\"vannila\",\"3\",\"round\",color='red',toppings='almond')"
   ]
  },
  {
   "cell_type": "markdown",
   "metadata": {},
   "source": [
    "# program to calculate the average of atleast 2 numbers"
   ]
  },
  {
   "cell_type": "code",
   "execution_count": 58,
   "metadata": {},
   "outputs": [
    {
     "name": "stdout",
     "output_type": "stream",
     "text": [
      "15.0\n",
      "48.0\n"
     ]
    }
   ],
   "source": [
    "def avg(a,b,*args):\n",
    "    res=(a+b+sum(args))/(2+len(args))\n",
    "    print(res)\n",
    "avg(10,20)\n",
    "avg(100,20,30,40,50)"
   ]
  },
  {
   "cell_type": "markdown",
   "metadata": {},
   "source": [
    "# sys module"
   ]
  },
  {
   "cell_type": "raw",
   "metadata": {},
   "source": [
    "#print in cli\n",
    "import sys\n",
    "l=sys.argv\n",
    "if len(l)==3:\n",
    "    print(int(list[1])+int(list[2]))\n",
    "else:\n",
    "    print('excess numbers passed')"
   ]
  },
  {
   "cell_type": "raw",
   "metadata": {},
   "source": [
    "refer internet for notes\n",
    "replacePosition(stmt,oldword,newword,position)\n",
    "palindromemaker()"
   ]
  },
  {
   "cell_type": "markdown",
   "metadata": {},
   "source": [
    "# Function Definition"
   ]
  },
  {
   "cell_type": "markdown",
   "metadata": {},
   "source": [
    "it should\n",
    "        1)start immediately after definition\n",
    "        2)be quoted inside multi line comment '''function definition'''"
   ]
  },
  {
   "cell_type": "code",
   "execution_count": 5,
   "metadata": {},
   "outputs": [
    {
     "name": "stdout",
     "output_type": "stream",
     "text": [
      "3\n",
      "adding two integers\n"
     ]
    }
   ],
   "source": [
    "def addnums(a,b):\n",
    "    '''adding two integers'''\n",
    "    res=a+b\n",
    "    print(res)\n",
    "addnums(1,2)\n",
    "print(addnums.__doc__)"
   ]
  },
  {
   "cell_type": "markdown",
   "metadata": {},
   "source": [
    "# return type example"
   ]
  },
  {
   "cell_type": "code",
   "execution_count": 10,
   "metadata": {},
   "outputs": [
    {
     "name": "stdout",
     "output_type": "stream",
     "text": [
      "400\n",
      "300\n",
      "30000\n",
      "300.0\n"
     ]
    },
    {
     "data": {
      "text/plain": [
       "300.0"
      ]
     },
     "execution_count": 10,
     "metadata": {},
     "output_type": "execute_result"
    }
   ],
   "source": [
    "def addnums(a,b):\n",
    "    print(a+b)\n",
    "    return a+b\n",
    "def subnums(a,b):\n",
    "    print(a-b)\n",
    "    return a-b\n",
    "def mulnums(a,b):\n",
    "    print(a*b)\n",
    "    return a*b\n",
    "def divnums(a,b):\n",
    "    print(a/b)\n",
    "    return a/b\n",
    "num1=300\n",
    "num2=100\n",
    "divnums(mulnums(subnums(addnums(num1,num2),num2),num2),num2)"
   ]
  },
  {
   "cell_type": "markdown",
   "metadata": {},
   "source": [
    "# lambda functions"
   ]
  },
  {
   "cell_type": "code",
   "execution_count": 1,
   "metadata": {},
   "outputs": [
    {
     "name": "stdout",
     "output_type": "stream",
     "text": [
      "11\n"
     ]
    }
   ],
   "source": [
    "addnums=lambda a,b: a+b\n",
    "print(addnums(5,6))"
   ]
  },
  {
   "cell_type": "code",
   "execution_count": 3,
   "metadata": {},
   "outputs": [
    {
     "name": "stdout",
     "output_type": "stream",
     "text": [
      "sheriff4fun@gmail.com\n"
     ]
    }
   ],
   "source": [
    "makeemail=lambda user,server: user+'@'+server+'.com'\n",
    "print(makeemail('sheriff4fun','gmail'))"
   ]
  },
  {
   "cell_type": "markdown",
   "metadata": {},
   "source": [
    "# special functions"
   ]
  },
  {
   "cell_type": "markdown",
   "metadata": {},
   "source": [
    "there are 3 special functions\n",
    "    1)map\n",
    "    2)filter\n",
    "    3)reduce"
   ]
  },
  {
   "cell_type": "markdown",
   "metadata": {},
   "source": [
    "# map"
   ]
  },
  {
   "cell_type": "code",
   "execution_count": 5,
   "metadata": {},
   "outputs": [
    {
     "name": "stdout",
     "output_type": "stream",
     "text": [
      "[1, 4, 9, 16, 25]\n"
     ]
    }
   ],
   "source": [
    "l1=[1,2,3,4,5]\n",
    "def sq(a):\n",
    "    return a**2     #can use one or multiple collections\n",
    "mo=map(sq,l1) \n",
    "print(list(mo))     #typecast to a collection before printing "
   ]
  },
  {
   "cell_type": "code",
   "execution_count": 8,
   "metadata": {},
   "outputs": [
    {
     "name": "stdout",
     "output_type": "stream",
     "text": [
      "[7, 9, 11, 13, 15]\n"
     ]
    }
   ],
   "source": [
    "l1=[1,2,3,4,5]     #map can only be used for associative collections(i.e. same number of elements in both the lists)\n",
    "l2=[6,7,8,9,10]\n",
    "def addnums(a,b):\n",
    "    res=a+b\n",
    "    return res\n",
    "mo=map(addnums,l1,l2)\n",
    "print(list(mo))"
   ]
  },
  {
   "cell_type": "markdown",
   "metadata": {},
   "source": [
    "# lambda function with map function "
   ]
  },
  {
   "cell_type": "code",
   "execution_count": 11,
   "metadata": {},
   "outputs": [
    {
     "name": "stdout",
     "output_type": "stream",
     "text": [
      "[1, 25, 36, 49, 64]\n",
      "[1, 25, 36, 49, 64]\n"
     ]
    }
   ],
   "source": [
    "l1=[1,5,6,7,8]\n",
    "mo=map(lambda a:a**2,l1)\n",
    "print(list(mo))\n",
    "\n",
    "#or\n",
    "\n",
    "print(list(map(lambda a:a**2,[1,5,6,7,8])))"
   ]
  },
  {
   "cell_type": "code",
   "execution_count": 12,
   "metadata": {},
   "outputs": [
    {
     "name": "stdout",
     "output_type": "stream",
     "text": [
      "[7, 9, 11, 13, 15]\n"
     ]
    }
   ],
   "source": [
    "l1=[1,2,3,4,5] \n",
    "l2=[6,7,8,9,10]\n",
    "mo=map(lambda a,b:a+b,l1,l2)\n",
    "print(list(mo))"
   ]
  },
  {
   "cell_type": "markdown",
   "metadata": {},
   "source": [
    "# program to find the length of the word using map and lambda function"
   ]
  },
  {
   "cell_type": "code",
   "execution_count": 14,
   "metadata": {},
   "outputs": [
    {
     "name": "stdout",
     "output_type": "stream",
     "text": [
      "[6, 2, 2, 4, 8]\n"
     ]
    }
   ],
   "source": [
    "stmt='python is an easy language'\n",
    "mo=map(lambda a:len(a),stmt.split())\n",
    "print(list(mo))"
   ]
  },
  {
   "cell_type": "markdown",
   "metadata": {},
   "source": [
    "# filter"
   ]
  },
  {
   "cell_type": "code",
   "execution_count": 15,
   "metadata": {},
   "outputs": [
    {
     "name": "stdout",
     "output_type": "stream",
     "text": [
      "[4, 8, 20, 10, 8, 6, 4]\n"
     ]
    }
   ],
   "source": [
    "l1=[5,4,8,20,17,15,10,8,9,6,4,1]\n",
    "fo=filter(lambda a:a%2==0,l1)          #can take only one collection and it's bascially a checking operation\n",
    "print(list(fo))                        #typecast to collection before printing"
   ]
  },
  {
   "cell_type": "markdown",
   "metadata": {},
   "source": [
    "# reduce "
   ]
  },
  {
   "cell_type": "code",
   "execution_count": 17,
   "metadata": {},
   "outputs": [
    {
     "name": "stdout",
     "output_type": "stream",
     "text": [
      "372\n"
     ]
    }
   ],
   "source": [
    "l1=[5,7,9,8,4,5,4,5,56,12,45,78,89,45]\n",
    "from functools import reduce     #must use this line inorder to get reduce function\n",
    "value=reduce(lambda a,b:a+b,l1)\n",
    "print(value)                     #should not typecast "
   ]
  },
  {
   "cell_type": "markdown",
   "metadata": {},
   "source": [
    "# printing a statement wihtout spaces in reverse order"
   ]
  },
  {
   "cell_type": "code",
   "execution_count": 18,
   "metadata": {},
   "outputs": [
    {
     "name": "stdout",
     "output_type": "stream",
     "text": [
      "egaugnalysaenasinohtyp\n"
     ]
    }
   ],
   "source": [
    "stmt='python is an easy language'\n",
    "print(reduce(lambda a,b:a+b,stmt.split())[::-1]) "
   ]
  },
  {
   "cell_type": "markdown",
   "metadata": {},
   "source": [
    "# file handling"
   ]
  },
  {
   "cell_type": "code",
   "execution_count": 23,
   "metadata": {},
   "outputs": [],
   "source": [
    "fo=open('demo.txt','w')        #always should start with w(write) for opening and writing\n",
    "fo.write('python')\n",
    "l1=['sheriff','judes']         #writing in a file\n",
    "fo.writelines(l1)\n",
    "fo.close()                      "
   ]
  },
  {
   "cell_type": "code",
   "execution_count": 32,
   "metadata": {},
   "outputs": [
    {
     "name": "stdout",
     "output_type": "stream",
     "text": [
      "pythonsher\n",
      "iff\n",
      "13\n",
      "['judes']\n"
     ]
    }
   ],
   "source": [
    "fr=open('demo.txt','r')\n",
    "print(fr.read(10))            #reading a file\n",
    "print(fr.read(3)) \n",
    "print(fr.tell())              #tell functions tells the current cursor point\n",
    "print(fr.readlines())\n",
    "fr.close()"
   ]
  },
  {
   "cell_type": "markdown",
   "metadata": {},
   "source": [
    "for seeking the position \n",
    "\n",
    "fo.seek(whence,offset)\n",
    "offset is sof --> 0\n",
    "          ccp --> 1\n",
    "          eof --> 2\n",
    "whence is telling the command to how much characters the cursor should move\n",
    "\n",
    "eg\n",
    "\n",
    "fo.seek(10,1)\n",
    "this tells that the cursor should me moved to 10 characters from the current cursor position"
   ]
  },
  {
   "cell_type": "markdown",
   "metadata": {},
   "source": [
    "# Random generator"
   ]
  },
  {
   "cell_type": "markdown",
   "metadata": {},
   "source": [
    "it is used in otp, random password"
   ]
  },
  {
   "cell_type": "code",
   "execution_count": 138,
   "metadata": {},
   "outputs": [
    {
     "name": "stdout",
     "output_type": "stream",
     "text": [
      "0.999019538469463\n",
      "46.43232324140719\n",
      "29\n",
      "19\n"
     ]
    }
   ],
   "source": [
    "import random\n",
    "print(random.random())             #prints random number b/w 0 and 1\n",
    "print(random.random()*100)\n",
    "print(random.randint(1,30))        #prints random number b/w the specified values and including those values\n",
    "print(random.randrange(1,30,2))    # same as randint. diff is randrange can also assign step values."
   ]
  },
  {
   "cell_type": "markdown",
   "metadata": {},
   "source": [
    "# using random generator in a list"
   ]
  },
  {
   "cell_type": "code",
   "execution_count": 163,
   "metadata": {},
   "outputs": [
    {
     "name": "stdout",
     "output_type": "stream",
     "text": [
      "[1, 2, 3, 4, 5, 6, 7, 8, 9, 10, 11, 12, 13, 14, 15, 16, 17, 18, 19, 20, 21, 22, 23, 24]\n",
      "[9, 3, 16, 8, 17, 13, 21, 19, 24, 18, 2, 23, 22, 12, 4, 20, 6, 1, 15, 10, 7, 11, 14, 5]\n",
      "23\n",
      "[8, 12, 22]\n"
     ]
    }
   ],
   "source": [
    "l1=[i for i in range(1,25)]\n",
    "print(l1)\n",
    "random.shuffle(l1)\n",
    "print(l1)\n",
    "print(random.choice(l1))        #selects random one element from a list\n",
    "print(random.sample(l1,3))      #selects random number of elements from a list(population parameter 'k')"
   ]
  },
  {
   "cell_type": "markdown",
   "metadata": {},
   "source": [
    "# program to get random numbers "
   ]
  },
  {
   "cell_type": "code",
   "execution_count": 249,
   "metadata": {},
   "outputs": [
    {
     "name": "stdout",
     "output_type": "stream",
     "text": [
      "7773\n",
      "62693613\n",
      "27\n"
     ]
    }
   ],
   "source": [
    "def getnums(n):\n",
    "    s=''\n",
    "    for i in range(n):\n",
    "        s=s + str(random.randint(0,9))\n",
    "    return int(s)\n",
    "print(getnums(4))\n",
    "print(getnums(8))\n",
    "print(getnums(2))"
   ]
  },
  {
   "cell_type": "markdown",
   "metadata": {},
   "source": [
    "# program to get random characters"
   ]
  },
  {
   "cell_type": "code",
   "execution_count": 266,
   "metadata": {},
   "outputs": [
    {
     "name": "stdout",
     "output_type": "stream",
     "text": [
      "adix\n",
      "zbxwjxxl\n"
     ]
    }
   ],
   "source": [
    "def getchars(n):\n",
    "    res=''\n",
    "    for i in range(n):\n",
    "        res= res + chr(random.randint(ord('a'),ord('z')))\n",
    "    return res\n",
    "print(getchars(4))\n",
    "print(getchars(8))"
   ]
  },
  {
   "cell_type": "markdown",
   "metadata": {},
   "source": [
    "# OS module"
   ]
  },
  {
   "cell_type": "code",
   "execution_count": 274,
   "metadata": {},
   "outputs": [
    {
     "name": "stdout",
     "output_type": "stream",
     "text": [
      "nt\n",
      "C:\\Users\\jeriff\n",
      "['.anaconda', '.android', '.astropy', '.conda', '.condarc', '.config', '.ffbinaries-cache', '.idlerc', '.ipynb_checkpoints', '.ipython', '.jdks', '.jupyter', '.matplotlib', '.nuget', '.PyCharmCE2019.3', '.pylint.d', '.python_history', '.spyder-py3', '.sqltools-setup', '.vscode', '3D Objects', 'Anaconda3', 'AppData', 'Application Data', 'battery-report.html', 'Contacts', 'Cookies', 'demo.txt', 'Desktop', 'Documents', 'Downloads', 'Favorites', 'IdeaProjects', 'inittk.ini', 'inst.ini', 'IntelGraphicsProfiles', 'java_error_in_pycharm.hprof', 'jeriff.user', 'judes1209.py', 'Links', 'Local Settings', 'MicrosoftEdgeBackups', 'mtform.bin', 'Music', 'My Documents', 'MyPyNb.ipynb', 'NetHood', 'New folder', 'Nox_share', 'NTUSER.DAT', 'ntuser.dat.LOG1', 'ntuser.dat.LOG2', 'NTUSER.DAT{fd9a35db-49fe-11e9-aa2c-248a07783950}.TM.blf', 'NTUSER.DAT{fd9a35db-49fe-11e9-aa2c-248a07783950}.TMContainer00000000000000000001.regtrans-ms', 'NTUSER.DAT{fd9a35db-49fe-11e9-aa2c-248a07783950}.TMContainer00000000000000000002.regtrans-ms', 'ntuser.ini', 'nuuid.ini', 'OneDrive', 'Pictures', 'PrintHood', 'PycharmProjects', 'Recent', 'Saved Games', 'Searches', 'SendTo', 'Start Menu', 'Templates', 'Untitled.ipynb', 'Videos', 'vmlogs']\n"
     ]
    }
   ],
   "source": [
    "import os\n",
    "print(os.name)\n",
    "print(os.getcwd())\n",
    "os.mkdir('ju')                    #it'll create a folder in the cwd\n",
    "os.makedirs('jude1/jude2')        #used to create directories and sub directories\n",
    "os.rmdir('ju')                    #removes a non empty directory\n",
    "os.removedirs('jude1/jude2')      #removes the complete directories and sub directories\n",
    "print(os.listdir())"
   ]
  },
  {
   "cell_type": "markdown",
   "metadata": {},
   "source": [
    "# classes and objects- OOPy"
   ]
  },
  {
   "cell_type": "code",
   "execution_count": 14,
   "metadata": {},
   "outputs": [
    {
     "name": "stdout",
     "output_type": "stream",
     "text": [
      "digital lync\n",
      "<class '__main__.organisation'>\n",
      "<__main__.organisation object at 0x0000025FBC1C4388>\n",
      "<__main__.organisation object at 0x0000025FBC1C43C8>\n",
      "<__main__.organisation object at 0x0000025FBC1BD9C8>\n",
      "digital lync\n",
      "hyderabad\n",
      "7\n",
      "digital lync\n",
      "digital lync\n",
      "hyderabad\n",
      "DLync\n",
      "DLync\n",
      "DL\n",
      "DLync\n"
     ]
    }
   ],
   "source": [
    "#class is a blueprint of objects, objects can access all of class\n",
    "\n",
    "class organisation:\n",
    "    #class variables\n",
    "    org_name='digital lync'\n",
    "    org_add='hyderabad'\n",
    "    emp_count=7\n",
    "    print(org_name)         #must print inside the class \n",
    "emp1=organisation()\n",
    "emp2=organisation()\n",
    "emp3=organisation()\n",
    "print(organisation)         #by default it'll print main and not the memory location because it is a class\n",
    "print(emp1)                 #it will print main with the memory location because it is an object\n",
    "print(emp2)\n",
    "print(emp3)\n",
    "print(organisation.org_name)   #it is a class reference(organisation), it'll show class variables\n",
    "print(organisation.org_add)\n",
    "print(organisation.emp_count)\n",
    "print(emp2.org_name)           #it is a object reference(emp1,emp2,emp3), it'll show classs variables too\n",
    "print(emp1.org_name)\n",
    "print(emp2.org_add)\n",
    "\n",
    "organisation.org_name='DLync'   #class reference is modified by a class variable then object reference is also changed\n",
    "print(organisation.org_name)\n",
    "print(emp2.org_name)\n",
    "emp2.org_name='DL'              #object reference is modified by a class vaiable then only the object reference gets changed not the class reference\n",
    "print(emp2.org_name)\n",
    "print(organisation.org_name)"
   ]
  },
  {
   "cell_type": "code",
   "execution_count": 16,
   "metadata": {},
   "outputs": [
    {
     "name": "stdout",
     "output_type": "stream",
     "text": [
      "name of employee is judes\n",
      "role of employee is ML-D\n",
      "salary of employee is 200\n"
     ]
    }
   ],
   "source": [
    "class organisation:\n",
    "    org_name='digital lync'\n",
    "    org_address='hyderabad'\n",
    "    emp_count=10\n",
    "    \n",
    "    def hire(self, empname, emprole, empsal):\n",
    "        print('name of employee is '+empname)\n",
    "        print('role of employee is '+emprole)\n",
    "        print('salary of employee is '+empsal)\n",
    "emp1=organisation()\n",
    "emp2=organisation()\n",
    "emp1.hire('judes','ML-D','200')"
   ]
  },
  {
   "cell_type": "code",
   "execution_count": null,
   "metadata": {},
   "outputs": [],
   "source": [
    "# __init__  is a constructor while __del__ is a destructor"
   ]
  },
  {
   "cell_type": "code",
   "execution_count": 20,
   "metadata": {},
   "outputs": [
    {
     "name": "stdout",
     "output_type": "stream",
     "text": [
      "hello\n",
      "hello\n"
     ]
    }
   ],
   "source": [
    "class organisation:\n",
    "    org_name='digital lync'\n",
    "    org_address='hyderabad'\n",
    "    emp_count=10\n",
    "    \n",
    "    def __init__(self):       #whenever object is created init is called \n",
    "        print('hello')\n",
    "emp1=organisation()\n",
    "emp2=organisation()"
   ]
  },
  {
   "cell_type": "code",
   "execution_count": 21,
   "metadata": {},
   "outputs": [
    {
     "name": "stdout",
     "output_type": "stream",
     "text": [
      "name of employee is judes\n",
      "role of employee is ML-Dev\n",
      "salary of employee is 7\n",
      "name of employee is jo\n",
      "role of employee is BD-Dev\n",
      "salary of employee is 8\n"
     ]
    }
   ],
   "source": [
    "class organisation:\n",
    "    org_name='digital lync'\n",
    "    org_address='hyderabad'\n",
    "    emp_count=10\n",
    "    \n",
    "    def __init__(self, empname, emprole, empsal):\n",
    "        print('name of employee is '+empname)\n",
    "        print('role of employee is '+emprole)\n",
    "        print('salary of employee is '+empsal)\n",
    "emp1=organisation('judes','ML-Dev','7')\n",
    "emp2=organisation('jo','BD-Dev','8')"
   ]
  },
  {
   "cell_type": "code",
   "execution_count": 53,
   "metadata": {},
   "outputs": [
    {
     "name": "stdout",
     "output_type": "stream",
     "text": [
      "name of employee is jo\n",
      "role of employee is BD-Dev\n",
      "salary of employee is 8\n"
     ]
    }
   ],
   "source": [
    "class organisation:\n",
    "    org_name='digital lync'\n",
    "    org_address='hyderabad'\n",
    "    emp_count=10\n",
    "    \n",
    "    def __init__(self, empname, emprole, empsal):    #the 2nd,3rd & 4th parameter copies the values to the first parameter\n",
    "        self.empname=empname                         #that is why printer gets the values                   \n",
    "        self.emprole=emprole\n",
    "        self.empsal=empsal\n",
    "        organisation.emp_count=organisation.emp_count+1\n",
    "    def printer(self):\n",
    "        print('name of employee is '+self.empname)\n",
    "        print('role of employee is '+self.emprole)\n",
    "        print('salary of employee is '+self.empsal)\n",
    "emp1=organisation('judes','ML-Dev','7')\n",
    "emp2=organisation('jo','BD-Dev','8')\n",
    "emp2.printer()"
   ]
  },
  {
   "cell_type": "markdown",
   "metadata": {},
   "source": [
    "# CAR PROGRAM"
   ]
  },
  {
   "cell_type": "code",
   "execution_count": 55,
   "metadata": {},
   "outputs": [
    {
     "name": "stdout",
     "output_type": "stream",
     "text": [
      "city 2018 0\n",
      "city 2018 90\n",
      "city 2018 130\n",
      "city 2018 0\n",
      "verna 2020 0\n"
     ]
    }
   ],
   "source": [
    "class car:\n",
    "    speed=0\n",
    "    def __init__(self,name,year):\n",
    "        self.name=name\n",
    "        self.year=year\n",
    "    def start(self,sspeed):\n",
    "        self.speed=sspeed\n",
    "    def acc(self,aspeed):\n",
    "        self.speed=self.speed+aspeed\n",
    "    def brake(self,aspeed):\n",
    "        self.speed=self.speed-aspeed\n",
    "    def stop(self):\n",
    "        self.speed=0\n",
    "    def printer(self):\n",
    "        print(self.name+' '+str(self.year)+' '+str(self.speed))\n",
    "\n",
    "c1=car('city',2018)\n",
    "c1.printer()\n",
    "c1.start(30)\n",
    "c1.acc(20)\n",
    "c1.acc(40)\n",
    "c2=car('verna',2020)\n",
    "c1.printer()\n",
    "c1.acc(40)\n",
    "c1.printer()\n",
    "c1.stop()\n",
    "c1.printer()\n",
    "c2.printer()"
   ]
  },
  {
   "cell_type": "code",
   "execution_count": null,
   "metadata": {},
   "outputs": [],
   "source": [
    "#types of methods\n",
    "    #instance method\n",
    "    #class method\n",
    "    #static method"
   ]
  },
  {
   "cell_type": "code",
   "execution_count": null,
   "metadata": {},
   "outputs": [],
   "source": []
  },
  {
   "cell_type": "code",
   "execution_count": null,
   "metadata": {},
   "outputs": [],
   "source": []
  },
  {
   "cell_type": "code",
   "execution_count": null,
   "metadata": {},
   "outputs": [],
   "source": []
  },
  {
   "cell_type": "code",
   "execution_count": null,
   "metadata": {},
   "outputs": [],
   "source": []
  },
  {
   "cell_type": "code",
   "execution_count": null,
   "metadata": {},
   "outputs": [],
   "source": []
  },
  {
   "cell_type": "code",
   "execution_count": null,
   "metadata": {},
   "outputs": [],
   "source": []
  },
  {
   "cell_type": "code",
   "execution_count": null,
   "metadata": {},
   "outputs": [],
   "source": []
  },
  {
   "cell_type": "code",
   "execution_count": null,
   "metadata": {},
   "outputs": [],
   "source": []
  },
  {
   "cell_type": "code",
   "execution_count": null,
   "metadata": {},
   "outputs": [],
   "source": []
  },
  {
   "cell_type": "code",
   "execution_count": null,
   "metadata": {},
   "outputs": [],
   "source": []
  },
  {
   "cell_type": "code",
   "execution_count": null,
   "metadata": {},
   "outputs": [],
   "source": []
  },
  {
   "cell_type": "code",
   "execution_count": null,
   "metadata": {},
   "outputs": [],
   "source": []
  },
  {
   "cell_type": "code",
   "execution_count": null,
   "metadata": {},
   "outputs": [],
   "source": []
  },
  {
   "cell_type": "code",
   "execution_count": null,
   "metadata": {},
   "outputs": [],
   "source": []
  },
  {
   "cell_type": "code",
   "execution_count": null,
   "metadata": {},
   "outputs": [],
   "source": []
  },
  {
   "cell_type": "code",
   "execution_count": null,
   "metadata": {},
   "outputs": [],
   "source": []
  },
  {
   "cell_type": "code",
   "execution_count": null,
   "metadata": {},
   "outputs": [],
   "source": []
  },
  {
   "cell_type": "code",
   "execution_count": null,
   "metadata": {},
   "outputs": [],
   "source": []
  },
  {
   "cell_type": "code",
   "execution_count": null,
   "metadata": {},
   "outputs": [],
   "source": []
  },
  {
   "cell_type": "code",
   "execution_count": null,
   "metadata": {},
   "outputs": [],
   "source": []
  }
 ],
 "metadata": {
  "kernelspec": {
   "display_name": "Python 3",
   "language": "python",
   "name": "python3"
  },
  "language_info": {
   "codemirror_mode": {
    "name": "ipython",
    "version": 3
   },
   "file_extension": ".py",
   "mimetype": "text/x-python",
   "name": "python",
   "nbconvert_exporter": "python",
   "pygments_lexer": "ipython3",
   "version": "3.7.7"
  }
 },
 "nbformat": 4,
 "nbformat_minor": 4
}
